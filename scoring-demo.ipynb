{
 "cells": [
  {
   "cell_type": "markdown",
   "metadata": {},
   "source": [
    "# Redis Search Scoring Demo\n",
    "This notebook demonstrates usage of the SCORE_FIELD parameter to use a custom document-level score to influence the standard field-level scoring.  Examples are provided for TFIDF and BM25 scoring.  "
   ]
  },
  {
   "cell_type": "markdown",
   "metadata": {},
   "source": [
    "## Install redis-py Client"
   ]
  },
  {
   "cell_type": "code",
   "execution_count": 73,
   "metadata": {
    "vscode": {
     "languageId": "shellscript"
    }
   },
   "outputs": [
    {
     "name": "stdout",
     "output_type": "stream",
     "text": [
      "Requirement already satisfied: redis in ./.venv/lib/python3.10/site-packages (5.0.6)\n",
      "Requirement already satisfied: async-timeout>=4.0.3 in ./.venv/lib/python3.10/site-packages (from redis) (4.0.3)\n"
     ]
    }
   ],
   "source": [
    "! pip install redis"
   ]
  },
  {
   "cell_type": "markdown",
   "metadata": {},
   "source": [
    "## Start the Redis Stack Docker container"
   ]
  },
  {
   "cell_type": "code",
   "execution_count": 74,
   "metadata": {
    "vscode": {
     "languageId": "shellscript"
    }
   },
   "outputs": [
    {
     "name": "stdout",
     "output_type": "stream",
     "text": [
      "62044f2d75eeb035807e6576b6b9e948bd1c45806bc1e6526501e4425de47263\n"
     ]
    }
   ],
   "source": [
    "! docker run -d --name redis-stack -p 6379:6379 redis/redis-stack-server:latest"
   ]
  },
  {
   "cell_type": "markdown",
   "metadata": {},
   "source": [
    "## CLI - Create Indices and Load JSON Data Item\n",
    "Below are the commands to create two indices:  \n",
    "- idx1 is without the SCORE_FIELD param.  Searches against this index yield default scoring.\n",
    "- idx2 includes SCORE_FIELD.  Searches against index yield the product of the TFIDF or BM25 score and the defined SCORE_FIELD attribute."
   ]
  },
  {
   "cell_type": "code",
   "execution_count": 75,
   "metadata": {
    "vscode": {
     "languageId": "shellscript"
    }
   },
   "outputs": [
    {
     "name": "stdout",
     "output_type": "stream",
     "text": [
      "OK\n",
      "OK\n",
      "OK\n",
      "OK\n"
     ]
    }
   ],
   "source": [
    "! redis-cli flushdb\n",
    "! redis-cli FT.CREATE idx1 ON JSON PREFIX 1 doc: SCHEMA $.content AS content TEXT\n",
    "! redis-cli FT.CREATE idx2 ON JSON PREFIX 1 doc: SCORE_FIELD $.doc_score SCHEMA $.content AS content TEXT\n",
    "! redis-cli JSON.SET doc:1 $ '{\"content\": \"The quick brown fox jumps over the lazy dog\",  \"doc_score\": 0.1}'"
   ]
  },
  {
   "cell_type": "markdown",
   "metadata": {},
   "source": [
    "## CLI - Default Search Scoring\n",
    "TFIDF and BM25 searches with scoring below."
   ]
  },
  {
   "cell_type": "code",
   "execution_count": 76,
   "metadata": {
    "vscode": {
     "languageId": "shellscript"
    }
   },
   "outputs": [
    {
     "name": "stdout",
     "output_type": "stream",
     "text": [
      "1) (integer) 1\n",
      "2) \"doc:1\"\n",
      "3) \"2\"\n",
      "4) 1) \"$\"\n",
      "   2) \"{\\\"content\\\":\\\"The quick brown fox jumps over the lazy dog\\\",\\\"doc_score\\\":0.1}\"\n",
      "1) (integer) 1\n",
      "2) \"doc:1\"\n",
      "3) \"0.34482757486713095\"\n",
      "4) 1) \"$\"\n",
      "   2) \"{\\\"content\\\":\\\"The quick brown fox jumps over the lazy dog\\\",\\\"doc_score\\\":0.1}\"\n"
     ]
    }
   ],
   "source": [
    "! redis-cli FT.SEARCH idx1 @content:\"brown fox\" SCORER TFIDF WITHSCORES\n",
    "! redis-cli FT.SEARCH idx1 @content:\"brown fox\" SCORER BM25 WITHSCORES"
   ]
  },
  {
   "cell_type": "markdown",
   "metadata": {},
   "source": [
    "## CLI - Search Scoring Utilizing SCORE_FIELD\n",
    "The same TFIDF and BM25 searches below but utilizing the index (idx2) with the SCORE_FIELD param.  Note the scores are now multiplied by that param value - 0.1."
   ]
  },
  {
   "cell_type": "code",
   "execution_count": 77,
   "metadata": {
    "vscode": {
     "languageId": "shellscript"
    }
   },
   "outputs": [
    {
     "name": "stdout",
     "output_type": "stream",
     "text": [
      "1) (integer) 1\n",
      "2) \"doc:1\"\n",
      "3) \"0.20000000298023224\"\n",
      "4) 1) \"$\"\n",
      "   2) \"{\\\"content\\\":\\\"The quick brown fox jumps over the lazy dog\\\",\\\"doc_score\\\":0.1}\"\n",
      "1) (integer) 1\n",
      "2) \"doc:1\"\n",
      "3) \"0.034482758000546225\"\n",
      "4) 1) \"$\"\n",
      "   2) \"{\\\"content\\\":\\\"The quick brown fox jumps over the lazy dog\\\",\\\"doc_score\\\":0.1}\"\n"
     ]
    }
   ],
   "source": [
    "! redis-cli FT.SEARCH idx2 @content:\"brown fox\" SCORER TFIDF WITHSCORES\n",
    "! redis-cli FT.SEARCH idx2 @content:\"brown fox\" SCORER BM25 WITHSCORES"
   ]
  },
  {
   "cell_type": "markdown",
   "metadata": {},
   "source": [
    "## Python - Create Indices and Load JSON Data Item\n",
    "Below are the commands to create two indices:  \n",
    "- idx1 is without the SCORE_FIELD param.  Searches against this index yield default scoring.\n",
    "- idx2 includes the SCORE_FIELD.  Searches against this index yield the product of the TFIDF or BM25 score and the defined SCORE_FIELD attribute."
   ]
  },
  {
   "cell_type": "code",
   "execution_count": 78,
   "metadata": {},
   "outputs": [
    {
     "data": {
      "text/plain": [
       "True"
      ]
     },
     "execution_count": 78,
     "metadata": {},
     "output_type": "execute_result"
    }
   ],
   "source": [
    "import redis\n",
    "from redis.commands.search.field import TextField\n",
    "from redis.commands.search.indexDefinition import IndexDefinition, IndexType\n",
    "from redis.commands.search.query import Query\n",
    "\n",
    "client = redis.Redis()\n",
    "client.flushdb()\n",
    "\n",
    "schema = [ TextField('$.content', as_name='content') ]\n",
    "idx1_def = IndexDefinition(index_type=IndexType.JSON, prefix=['doc:'])\n",
    "idx2_def = IndexDefinition(index_type=IndexType.JSON, prefix=['doc:'], score_field='$.doc_score')\n",
    "\n",
    "client.ft('idx1').create_index(schema, definition=idx1_def)\n",
    "client.ft('idx2').create_index(schema, definition=idx2_def)\n",
    "\n",
    "client.json().set('doc:1', '$', {'content': 'The quick brown fox jumps over the lazy dog', 'doc_score': 0.1})"
   ]
  },
  {
   "cell_type": "markdown",
   "metadata": {},
   "source": [
    "## Python - Default Search Scoring\n",
    "TFIDF and BM25 searches with scoring below."
   ]
  },
  {
   "cell_type": "code",
   "execution_count": 79,
   "metadata": {},
   "outputs": [
    {
     "name": "stdout",
     "output_type": "stream",
     "text": [
      "*** TFIDF ***\n",
      "Result{1 total, docs: [Document {'id': 'doc:1', 'payload': None, 'score': 2.0, 'json': '{\"content\":\"The quick brown fox jumps over the lazy dog\",\"doc_score\":0.1}'}]}\n",
      "\n",
      "*** BM25 ***\n",
      "Result{1 total, docs: [Document {'id': 'doc:1', 'payload': None, 'score': 0.34482757486713095, 'json': '{\"content\":\"The quick brown fox jumps over the lazy dog\",\"doc_score\":0.1}'}]}\n"
     ]
    }
   ],
   "source": [
    "tfidf_query = Query('@content:\"brown fox\"')\\\n",
    "    .scorer('TFIDF')\\\n",
    "    .with_scores()\n",
    "results = client.ft('idx1').search(tfidf_query)\n",
    "print('*** TFIDF ***')\n",
    "print(results)\n",
    "\n",
    "bm25_query = Query('@content:\"brown fox\"')\\\n",
    "    .scorer('BM25')\\\n",
    "    .with_scores()\n",
    "results = client.ft('idx1').search(bm25_query)\n",
    "print('\\n*** BM25 ***')\n",
    "print(results)"
   ]
  },
  {
   "cell_type": "markdown",
   "metadata": {},
   "source": [
    "## Python - Search Scoring Utilizing SCORE_FIELD\n",
    "The same TFIDF and BM25 searches below but utilizing the index (idx2) with the SCORE_FIELD param.  Note the scores are now multiplied by that param value - 0.1."
   ]
  },
  {
   "cell_type": "code",
   "execution_count": 80,
   "metadata": {},
   "outputs": [
    {
     "name": "stdout",
     "output_type": "stream",
     "text": [
      "*** TFIDF ***\n",
      "Result{1 total, docs: [Document {'id': 'doc:1', 'payload': None, 'score': 0.20000000298023224, 'json': '{\"content\":\"The quick brown fox jumps over the lazy dog\",\"doc_score\":0.1}'}]}\n",
      "\n",
      "*** BM25 ***\n",
      "Result{1 total, docs: [Document {'id': 'doc:1', 'payload': None, 'score': 0.034482758000546225, 'json': '{\"content\":\"The quick brown fox jumps over the lazy dog\",\"doc_score\":0.1}'}]}\n"
     ]
    }
   ],
   "source": [
    "results = client.ft('idx2').search(tfidf_query)\n",
    "print('*** TFIDF ***')\n",
    "print(results)\n",
    "\n",
    "results = client.ft('idx2').search(bm25_query)\n",
    "print('\\n*** BM25 ***')\n",
    "print(results)"
   ]
  },
  {
   "cell_type": "markdown",
   "metadata": {},
   "source": [
    "## Shutdown and Remove the Redis Stack Docker container"
   ]
  },
  {
   "cell_type": "code",
   "execution_count": 81,
   "metadata": {},
   "outputs": [
    {
     "name": "stdout",
     "output_type": "stream",
     "text": [
      "redis-stack\n"
     ]
    }
   ],
   "source": [
    "! docker container rm -f redis-stack"
   ]
  }
 ],
 "metadata": {
  "kernelspec": {
   "display_name": ".venv",
   "language": "python",
   "name": "python3"
  },
  "language_info": {
   "codemirror_mode": {
    "name": "ipython",
    "version": 3
   },
   "file_extension": ".py",
   "mimetype": "text/x-python",
   "name": "python",
   "nbconvert_exporter": "python",
   "pygments_lexer": "ipython3",
   "version": "3.10.12"
  }
 },
 "nbformat": 4,
 "nbformat_minor": 2
}
